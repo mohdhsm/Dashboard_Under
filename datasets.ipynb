{
 "cells": [
  {
   "cell_type": "code",
   "execution_count": 4,
   "metadata": {},
   "outputs": [
    {
     "name": "stdout",
     "output_type": "stream",
     "text": [
      "   Obj   KR                                      Key Results       Status  \\\n",
      "0    1  KR1                  Hire two more interior designer      started   \n",
      "1    1  KR2              Our aramco score is higher than 80%      Started   \n",
      "2    1  KR3             Number of inquirie are 80 perquarter  Not Started   \n",
      "3    1  KR4             Improve feedback from aramco to 9/10      started   \n",
      "4    1  KR5    Visit aramco atleast 36 in a quarter by sales      Started   \n",
      "5    1  KR6  Increase sales from aramco to 3 million quarter      started   \n",
      "\n",
      "    Owner     Target Previous  Current  Confidence  \n",
      "0  Arshad        2.0        -      0.0         1.0  \n",
      "1   areej       80.0        -     76.0         1.0  \n",
      "2   areej       80.0        -      NaN         NaN  \n",
      "3   Areej        9.0        -      NaN         NaN  \n",
      "4   areej       36.0        -      NaN         1.0  \n",
      "5  Arshad  3000000.0        -      NaN         1.0  \n"
     ]
    },
    {
     "name": "stderr",
     "output_type": "stream",
     "text": [
      "/opt/homebrew/lib/python3.9/site-packages/openpyxl/worksheet/_reader.py:312: UserWarning: Unknown extension is not supported and will be removed\n",
      "  warn(msg)\n",
      "/opt/homebrew/lib/python3.9/site-packages/openpyxl/worksheet/_reader.py:312: UserWarning: Conditional Formatting extension is not supported and will be removed\n",
      "  warn(msg)\n"
     ]
    }
   ],
   "source": [
    "import pandas as pd\n",
    "import streamlit as st\n",
    "import datetime \n",
    "sales_df = pd.read_excel(\"data/df_sales.xlsx\")\n",
    "obj1= sales_df[sales_df[\"Obj\"]== 1 ]\n",
    "\n",
    "print(obj1)\n"
   ]
  },
  {
   "cell_type": "code",
   "execution_count": 14,
   "metadata": {},
   "outputs": [
    {
     "name": "stdout",
     "output_type": "stream",
     "text": [
      "      C   D\n",
      "A          \n",
      "bar  12  52\n",
      "foo  24  72\n"
     ]
    }
   ],
   "source": []
  },
  {
   "cell_type": "code",
   "execution_count": null,
   "metadata": {},
   "outputs": [],
   "source": []
  }
 ],
 "metadata": {
  "kernelspec": {
   "display_name": "Python 3.9.13 64-bit",
   "language": "python",
   "name": "python3"
  },
  "language_info": {
   "codemirror_mode": {
    "name": "ipython",
    "version": 3
   },
   "file_extension": ".py",
   "mimetype": "text/x-python",
   "name": "python",
   "nbconvert_exporter": "python",
   "pygments_lexer": "ipython3",
   "version": "3.10.6"
  },
  "orig_nbformat": 4,
  "vscode": {
   "interpreter": {
    "hash": "b0fa6594d8f4cbf19f97940f81e996739fb7646882a419484c72d19e05852a7e"
   }
  }
 },
 "nbformat": 4,
 "nbformat_minor": 2
}
